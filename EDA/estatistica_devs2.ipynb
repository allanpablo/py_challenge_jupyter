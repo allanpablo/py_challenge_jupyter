{
 "cells": [
  {
   "cell_type": "markdown",
   "id": "e4fca840",
   "metadata": {},
   "source": [
    "# Medidas de Dispersão com Pandas\n",
    "\n",
    "As medidas de dispersão mostram o quanto os dados variam em torno da média.  \n",
    "Vamos calcular:\n",
    "\n",
    "- **Variância**\n",
    "- **Desvio Padrão**\n",
    "- **Coeficiente de Variação (CV%)**\n",
    "\n",
    "Usaremos como exemplo as variáveis `Idade` e `Altura`.\n"
   ]
  },
  {
   "cell_type": "code",
   "execution_count": 1,
   "id": "a2cbef5d",
   "metadata": {},
   "outputs": [
    {
     "data": {
      "text/html": [
       "<div>\n",
       "<style scoped>\n",
       "    .dataframe tbody tr th:only-of-type {\n",
       "        vertical-align: middle;\n",
       "    }\n",
       "\n",
       "    .dataframe tbody tr th {\n",
       "        vertical-align: top;\n",
       "    }\n",
       "\n",
       "    .dataframe thead th {\n",
       "        text-align: right;\n",
       "    }\n",
       "</style>\n",
       "<table border=\"1\" class=\"dataframe\">\n",
       "  <thead>\n",
       "    <tr style=\"text-align: right;\">\n",
       "      <th></th>\n",
       "      <th>Idade</th>\n",
       "      <th>Altura</th>\n",
       "    </tr>\n",
       "  </thead>\n",
       "  <tbody>\n",
       "    <tr>\n",
       "      <th>0</th>\n",
       "      <td>25</td>\n",
       "      <td>1.72</td>\n",
       "    </tr>\n",
       "    <tr>\n",
       "      <th>1</th>\n",
       "      <td>32</td>\n",
       "      <td>1.85</td>\n",
       "    </tr>\n",
       "    <tr>\n",
       "      <th>2</th>\n",
       "      <td>47</td>\n",
       "      <td>1.68</td>\n",
       "    </tr>\n",
       "    <tr>\n",
       "      <th>3</th>\n",
       "      <td>19</td>\n",
       "      <td>1.90</td>\n",
       "    </tr>\n",
       "    <tr>\n",
       "      <th>4</th>\n",
       "      <td>52</td>\n",
       "      <td>1.75</td>\n",
       "    </tr>\n",
       "    <tr>\n",
       "      <th>5</th>\n",
       "      <td>32</td>\n",
       "      <td>1.85</td>\n",
       "    </tr>\n",
       "  </tbody>\n",
       "</table>\n",
       "</div>"
      ],
      "text/plain": [
       "   Idade  Altura\n",
       "0     25    1.72\n",
       "1     32    1.85\n",
       "2     47    1.68\n",
       "3     19    1.90\n",
       "4     52    1.75\n",
       "5     32    1.85"
      ]
     },
     "execution_count": 1,
     "metadata": {},
     "output_type": "execute_result"
    }
   ],
   "source": [
    "import pandas as pd\n",
    "\n",
    "# Dados de exemplo\n",
    "dados = {\n",
    "    \"Idade\": [25, 32, 47, 19, 52, 32],\n",
    "    \"Altura\": [1.72, 1.85, 1.68, 1.90, 1.75, 1.85]\n",
    "}\n",
    "\n",
    "df = pd.DataFrame(dados)\n",
    "df\n"
   ]
  },
  {
   "cell_type": "markdown",
   "id": "635b7124",
   "metadata": {},
   "source": [
    "## Variância, Desvio Padrão e Coeficiente de Variação\n",
    "\n",
    "Usamos as funções:\n",
    "\n",
    "- `var()` para variância\n",
    "- `std()` para desvio padrão\n",
    "- E fazemos o cálculo manual do **coeficiente de variação (CV%)**:\n",
    "  \\[\n",
    "  \\text{CV%} = \\left( \\frac{\\text{Desvio Padrão}}{\\text{Média}} \\right) \\times 100\n",
    "  \\]\n"
   ]
  },
  {
   "cell_type": "code",
   "execution_count": 2,
   "id": "ee4380a6",
   "metadata": {},
   "outputs": [
    {
     "name": "stdout",
     "output_type": "stream",
     "text": [
      "Variância - Idade: 161.10\n",
      "Desvio Padrão - Idade: 12.69\n",
      "Coeficiente de Variação - Idade: 36.79%\n",
      "\n",
      "Variância - Altura: 0.0076\n",
      "Desvio Padrão - Altura: 0.0870\n",
      "Coeficiente de Variação - Altura: 4.86%\n"
     ]
    }
   ],
   "source": [
    "# Variância\n",
    "var_idade = df[\"Idade\"].var()\n",
    "var_altura = df[\"Altura\"].var()\n",
    "\n",
    "# Desvio padrão\n",
    "std_idade = df[\"Idade\"].std()\n",
    "std_altura = df[\"Altura\"].std()\n",
    "\n",
    "# Coeficiente de variação (CV%)\n",
    "cv_idade = (std_idade / df[\"Idade\"].mean()) * 100\n",
    "cv_altura = (std_altura / df[\"Altura\"].mean()) * 100\n",
    "\n",
    "# Exibir os resultados\n",
    "print(f\"Variância - Idade: {var_idade:.2f}\")\n",
    "print(f\"Desvio Padrão - Idade: {std_idade:.2f}\")\n",
    "print(f\"Coeficiente de Variação - Idade: {cv_idade:.2f}%\")\n",
    "\n",
    "print(f\"\\nVariância - Altura: {var_altura:.4f}\")\n",
    "print(f\"Desvio Padrão - Altura: {std_altura:.4f}\")\n",
    "print(f\"Coeficiente de Variação - Altura: {cv_altura:.2f}%\")\n"
   ]
  },
  {
   "cell_type": "markdown",
   "id": "687ffefe",
   "metadata": {},
   "source": [
    "## Conclusão\n",
    "\n",
    "As medidas de dispersão ajudam a entender o quanto os dados estão espalhados em relação à média.\n",
    "\n",
    "O **coeficiente de variação (CV%)** é especialmente útil para comparar a dispersão entre variáveis de diferentes escalas, como `Idade` (anos) e `Altura` (metros).\n"
   ]
  },
  {
   "cell_type": "markdown",
   "id": "0ec2e91c",
   "metadata": {},
   "source": [
    "## Variância\n",
    "\n",
    "A variância indica o quanto os dados se afastam da média.  \n",
    "É calculada como a **média dos quadrados das diferenças entre os valores e a média**.\n"
   ]
  },
  {
   "cell_type": "code",
   "execution_count": 3,
   "id": "1bec3af0",
   "metadata": {},
   "outputs": [
    {
     "name": "stdout",
     "output_type": "stream",
     "text": [
      "Variância - Idade: 161.10\n",
      "Variância - Altura: 0.0076\n"
     ]
    }
   ],
   "source": [
    "variancia_idade = df[\"Idade\"].var()\n",
    "variancia_altura = df[\"Altura\"].var()\n",
    "\n",
    "print(f\"Variância - Idade: {variancia_idade:.2f}\")\n",
    "print(f\"Variância - Altura: {variancia_altura:.4f}\")\n"
   ]
  },
  {
   "cell_type": "markdown",
   "id": "a4820783",
   "metadata": {},
   "source": [
    "## Desvio Padrão\n",
    "\n",
    "O desvio padrão é a **raiz quadrada da variância**.  \n",
    "Expressa a dispersão na **mesma unidade dos dados**, o que facilita a interpretação.\n"
   ]
  },
  {
   "cell_type": "code",
   "execution_count": 4,
   "id": "645432fc",
   "metadata": {},
   "outputs": [
    {
     "name": "stdout",
     "output_type": "stream",
     "text": [
      "Desvio padrão - Idade: 12.69\n",
      "Desvio padrão - Altura: 0.0870\n"
     ]
    }
   ],
   "source": [
    "desvio_idade = df[\"Idade\"].std()\n",
    "desvio_altura = df[\"Altura\"].std()\n",
    "\n",
    "print(f\"Desvio padrão - Idade: {desvio_idade:.2f}\")\n",
    "print(f\"Desvio padrão - Altura: {desvio_altura:.4f}\")\n"
   ]
  },
  {
   "cell_type": "markdown",
   "id": "3e1ab6c5",
   "metadata": {},
   "source": [
    "## Coeficiente de Variação (CV%)\n",
    "\n",
    "O CV é calculado como:\n",
    "\n",
    "\\[\n",
    "CV\\% = \\left( \\frac{\\text{Desvio Padrão}}{\\text{Média}} \\right) \\times 100\n",
    "\\]\n",
    "\n",
    "É útil para **comparar variabilidades** entre conjuntos de dados com unidades diferentes.\n"
   ]
  },
  {
   "cell_type": "code",
   "execution_count": 5,
   "id": "78b51059",
   "metadata": {},
   "outputs": [
    {
     "name": "stdout",
     "output_type": "stream",
     "text": [
      "Coeficiente de Variação - Idade: 36.79%\n",
      "Coeficiente de Variação - Altura: 4.86%\n"
     ]
    }
   ],
   "source": [
    "media_idade = df[\"Idade\"].mean()\n",
    "media_altura = df[\"Altura\"].mean()\n",
    "\n",
    "cv_idade = (desvio_idade / media_idade) * 100\n",
    "cv_altura = (desvio_altura / media_altura) * 100\n",
    "\n",
    "print(f\"Coeficiente de Variação - Idade: {cv_idade:.2f}%\")\n",
    "print(f\"Coeficiente de Variação - Altura: {cv_altura:.2f}%\")\n"
   ]
  },
  {
   "cell_type": "markdown",
   "id": "0dda6e8c",
   "metadata": {},
   "source": [
    "## Conclusão\n",
    "\n",
    "- A **variância e o desvio padrão** medem o grau de dispersão dos dados.\n",
    "- O **coeficiente de variação** nos permite comparar essa dispersão entre diferentes variáveis.\n",
    "- Neste caso, a **idade** apresentou maior variabilidade que a **altura**, o que é evidenciado por um CV% mais alto.\n"
   ]
  }
 ],
 "metadata": {
  "kernelspec": {
   "display_name": "estatistica_devs-MKbpRP2F",
   "language": "python",
   "name": "python3"
  },
  "language_info": {
   "codemirror_mode": {
    "name": "ipython",
    "version": 3
   },
   "file_extension": ".py",
   "mimetype": "text/x-python",
   "name": "python",
   "nbconvert_exporter": "python",
   "pygments_lexer": "ipython3",
   "version": "3.11.0"
  }
 },
 "nbformat": 4,
 "nbformat_minor": 5
}
