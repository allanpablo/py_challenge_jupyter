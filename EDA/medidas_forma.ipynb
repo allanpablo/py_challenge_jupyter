{
 "cells": [
  {
   "cell_type": "markdown",
   "id": "16c6f419",
   "metadata": {},
   "source": [
    "# Medidas de Forma com Pandas\n",
    "\n",
    "As **medidas de forma** nos ajudam a entender o **formato da distribuição** dos dados, além das medidas de posição e dispersão.\n",
    "\n",
    "Vamos calcular:\n",
    "\n",
    "- **Simetria (Skewness)**: Indica se a distribuição tem uma cauda mais longa à direita (positiva) ou à esquerda (negativa).\n",
    "- **Curtose (Kurtosis)**: Mede o grau de \"pico\" da distribuição:\n",
    "  - Alta curtose → pico estreito\n",
    "  - Baixa curtose → distribuição achatada\n"
   ]
  },
  {
   "cell_type": "code",
   "execution_count": 8,
   "id": "93be98cd",
   "metadata": {},
   "outputs": [
    {
     "data": {
      "text/html": [
       "<div>\n",
       "<style scoped>\n",
       "    .dataframe tbody tr th:only-of-type {\n",
       "        vertical-align: middle;\n",
       "    }\n",
       "\n",
       "    .dataframe tbody tr th {\n",
       "        vertical-align: top;\n",
       "    }\n",
       "\n",
       "    .dataframe thead th {\n",
       "        text-align: right;\n",
       "    }\n",
       "</style>\n",
       "<table border=\"1\" class=\"dataframe\">\n",
       "  <thead>\n",
       "    <tr style=\"text-align: right;\">\n",
       "      <th></th>\n",
       "      <th>Idade</th>\n",
       "      <th>Altura</th>\n",
       "    </tr>\n",
       "  </thead>\n",
       "  <tbody>\n",
       "    <tr>\n",
       "      <th>0</th>\n",
       "      <td>25</td>\n",
       "      <td>1.72</td>\n",
       "    </tr>\n",
       "    <tr>\n",
       "      <th>1</th>\n",
       "      <td>32</td>\n",
       "      <td>1.85</td>\n",
       "    </tr>\n",
       "    <tr>\n",
       "      <th>2</th>\n",
       "      <td>47</td>\n",
       "      <td>1.68</td>\n",
       "    </tr>\n",
       "    <tr>\n",
       "      <th>3</th>\n",
       "      <td>19</td>\n",
       "      <td>1.90</td>\n",
       "    </tr>\n",
       "    <tr>\n",
       "      <th>4</th>\n",
       "      <td>52</td>\n",
       "      <td>1.75</td>\n",
       "    </tr>\n",
       "    <tr>\n",
       "      <th>5</th>\n",
       "      <td>32</td>\n",
       "      <td>1.85</td>\n",
       "    </tr>\n",
       "    <tr>\n",
       "      <th>6</th>\n",
       "      <td>60</td>\n",
       "      <td>1.79</td>\n",
       "    </tr>\n",
       "    <tr>\n",
       "      <th>7</th>\n",
       "      <td>30</td>\n",
       "      <td>1.73</td>\n",
       "    </tr>\n",
       "    <tr>\n",
       "      <th>8</th>\n",
       "      <td>29</td>\n",
       "      <td>1.70</td>\n",
       "    </tr>\n",
       "    <tr>\n",
       "      <th>9</th>\n",
       "      <td>35</td>\n",
       "      <td>1.81</td>\n",
       "    </tr>\n",
       "  </tbody>\n",
       "</table>\n",
       "</div>"
      ],
      "text/plain": [
       "   Idade  Altura\n",
       "0     25    1.72\n",
       "1     32    1.85\n",
       "2     47    1.68\n",
       "3     19    1.90\n",
       "4     52    1.75\n",
       "5     32    1.85\n",
       "6     60    1.79\n",
       "7     30    1.73\n",
       "8     29    1.70\n",
       "9     35    1.81"
      ]
     },
     "execution_count": 8,
     "metadata": {},
     "output_type": "execute_result"
    }
   ],
   "source": [
    "import pandas as pd\n",
    "from scipy.stats import skew, kurtosis\n",
    "\n",
    "# Dados de exemplo\n",
    "dados = {\n",
    "    \"Idade\": [25, 32, 47, 19, 52, 32, 60, 30, 29, 35],\n",
    "    \"Altura\": [1.72, 1.85, 1.68, 1.90, 1.75, 1.85, 1.79, 1.73, 1.70, 1.81]\n",
    "}\n",
    "\n",
    "df = pd.DataFrame(dados)\n",
    "df\n"
   ]
  },
  {
   "cell_type": "markdown",
   "id": "041ff0a6",
   "metadata": {},
   "source": [
    "## Simetria (Skewness)\n",
    "\n",
    "A simetria mostra se os dados estão mais \"esticados\" para um dos lados da média:\n",
    "\n",
    "- **Skew > 0**: cauda direita (assimetria positiva)\n",
    "- **Skew < 0**: cauda esquerda (assimetria negativa)\n",
    "- **Skew ≈ 0**: distribuição simétrica\n"
   ]
  },
  {
   "cell_type": "code",
   "execution_count": 9,
   "id": "57c1c1fe",
   "metadata": {},
   "outputs": [
    {
     "name": "stdout",
     "output_type": "stream",
     "text": [
      "Simetria - Idade: 0.6589\n",
      "Simetria - Altura: 0.2522\n"
     ]
    }
   ],
   "source": [
    "skew_idade = skew(df[\"Idade\"])\n",
    "skew_altura = skew(df[\"Altura\"])\n",
    "\n",
    "print(f\"Simetria - Idade: {skew_idade:.4f}\")\n",
    "print(f\"Simetria - Altura: {skew_altura:.4f}\")\n"
   ]
  },
  {
   "cell_type": "markdown",
   "id": "f13ab28e",
   "metadata": {},
   "source": [
    "## Curtose\n",
    "\n",
    "A curtose indica o formato do pico da distribuição:\n",
    "\n",
    "- **Kurtosis > 0**: pico mais agudo que o normal (leptocúrtica)\n",
    "- **Kurtosis < 0**: distribuição achatada (platicúrtica)\n",
    "- **Kurtosis ≈ 0**: similar a uma normal (mesocúrtica)\n"
   ]
  },
  {
   "cell_type": "code",
   "execution_count": 10,
   "id": "ff0d48df",
   "metadata": {},
   "outputs": [
    {
     "name": "stdout",
     "output_type": "stream",
     "text": [
      "Curtose - Idade: -0.6768\n",
      "Curtose - Altura: -1.2068\n"
     ]
    }
   ],
   "source": [
    "kurt_idade = kurtosis(df[\"Idade\"])\n",
    "kurt_altura = kurtosis(df[\"Altura\"])\n",
    "\n",
    "print(f\"Curtose - Idade: {kurt_idade:.4f}\")\n",
    "print(f\"Curtose - Altura: {kurt_altura:.4f}\")\n"
   ]
  },
  {
   "cell_type": "markdown",
   "id": "2689a72d",
   "metadata": {},
   "source": [
    "## Conclusão\n",
    "\n",
    "- A **simetria** mostra o lado em que a distribuição tem uma cauda mais longa.\n",
    "- A **curtose** nos diz se a distribuição é mais pontuda ou achatada em relação à normal.\n",
    "- Essas medidas ajudam a interpretar o comportamento dos dados além da média e desvio padrão.\n"
   ]
  }
 ],
 "metadata": {
  "kernelspec": {
   "display_name": "estatistica_devs-MKbpRP2F",
   "language": "python",
   "name": "python3"
  },
  "language_info": {
   "codemirror_mode": {
    "name": "ipython",
    "version": 3
   },
   "file_extension": ".py",
   "mimetype": "text/x-python",
   "name": "python",
   "nbconvert_exporter": "python",
   "pygments_lexer": "ipython3",
   "version": "3.11.0"
  }
 },
 "nbformat": 4,
 "nbformat_minor": 5
}
