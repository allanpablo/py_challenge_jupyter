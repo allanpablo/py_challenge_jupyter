{
 "cells": [
  {
   "cell_type": "code",
   "execution_count": 1,
   "id": "2a8e18d2",
   "metadata": {},
   "outputs": [],
   "source": [
    "import pandas as pd"
   ]
  },
  {
   "cell_type": "code",
   "execution_count": 2,
   "id": "8d73ad90",
   "metadata": {},
   "outputs": [
    {
     "data": {
      "text/plain": [
       "'2.3.1'"
      ]
     },
     "execution_count": 2,
     "metadata": {},
     "output_type": "execute_result"
    }
   ],
   "source": [
    "pd.__version__"
   ]
  },
  {
   "cell_type": "code",
   "execution_count": 4,
   "id": "f6b0a2b4",
   "metadata": {},
   "outputs": [],
   "source": [
    "dict_medidas = {\"idade\": [25, 32, 47, 19, 52],\n",
    "    \"altura\": [1.72, 1.85, 1.68, 1.90, 1.75]}"
   ]
  },
  {
   "cell_type": "code",
   "execution_count": 5,
   "id": "bc2f1244",
   "metadata": {},
   "outputs": [],
   "source": [
    "df = pd.DataFrame(dict_medidas)"
   ]
  },
  {
   "cell_type": "code",
   "execution_count": 10,
   "id": "209acc82",
   "metadata": {},
   "outputs": [],
   "source": [
    "df_medidas = pd.DataFrame.from_dict(dict_medidas)"
   ]
  },
  {
   "cell_type": "code",
   "execution_count": 7,
   "id": "b62de1a8",
   "metadata": {},
   "outputs": [
    {
     "name": "stdout",
     "output_type": "stream",
     "text": [
      "📊 DataFrame:\n",
      "   idade  altura\n",
      "0     25    1.72\n",
      "1     32    1.85\n",
      "2     47    1.68\n",
      "3     19    1.90\n",
      "4     52    1.75\n"
     ]
    }
   ],
   "source": [
    "print(\"📊 DataFrame:\")\n",
    "print(df)"
   ]
  },
  {
   "cell_type": "code",
   "execution_count": 11,
   "id": "5859daf5",
   "metadata": {},
   "outputs": [
    {
     "name": "stdout",
     "output_type": "stream",
     "text": [
      "📊 DataFrame:\n",
      "   idade  altura\n",
      "0     25    1.72\n",
      "1     32    1.85\n",
      "2     47    1.68\n",
      "3     19    1.90\n",
      "4     52    1.75\n"
     ]
    }
   ],
   "source": [
    "print(\"📊 DataFrame:\")\n",
    "print(df_medidas)"
   ]
  },
  {
   "cell_type": "code",
   "execution_count": 12,
   "id": "e167185f",
   "metadata": {},
   "outputs": [
    {
     "name": "stdout",
     "output_type": "stream",
     "text": [
      "\n",
      "📈 Estatísticas descritivas:\n",
      "           idade    altura\n",
      "count   5.000000  5.000000\n",
      "mean   35.000000  1.780000\n",
      "std    14.124447  0.091924\n",
      "min    19.000000  1.680000\n",
      "25%    25.000000  1.720000\n",
      "50%    32.000000  1.750000\n",
      "75%    47.000000  1.850000\n",
      "max    52.000000  1.900000\n"
     ]
    }
   ],
   "source": [
    "print(\"\\n📈 Estatísticas descritivas:\")\n",
    "print(df.describe())"
   ]
  },
  {
   "cell_type": "code",
   "execution_count": 13,
   "id": "a0d38f06",
   "metadata": {},
   "outputs": [
    {
     "name": "stdout",
     "output_type": "stream",
     "text": [
      "\n",
      "🧩 Série - Idade:\n",
      "0    25\n",
      "1    32\n",
      "2    47\n",
      "3    19\n",
      "4    52\n",
      "Name: idade, dtype: int64\n"
     ]
    }
   ],
   "source": [
    "# 5. Acessar uma variável isolada (isso é uma Série)\n",
    "serie_idade = df[\"idade\"]\n",
    "print(\"\\n🧩 Série - Idade:\")\n",
    "print(serie_idade)"
   ]
  },
  {
   "cell_type": "markdown",
   "id": "bc74ef60",
   "metadata": {},
   "source": [
    "# Medidas de Posição com Pandas\n",
    "\n",
    "Nesta aula, vamos aprender a calcular **medidas de posição** (média, mediana e moda) utilizando o Pandas no Jupyter Notebook.  \n",
    "Trabalharemos com um pequeno DataFrame contendo variáveis de **idade** e **altura**.\n"
   ]
  },
  {
   "cell_type": "code",
   "execution_count": 15,
   "id": "fd3e7b70",
   "metadata": {},
   "outputs": [
    {
     "data": {
      "text/html": [
       "<div>\n",
       "<style scoped>\n",
       "    .dataframe tbody tr th:only-of-type {\n",
       "        vertical-align: middle;\n",
       "    }\n",
       "\n",
       "    .dataframe tbody tr th {\n",
       "        vertical-align: top;\n",
       "    }\n",
       "\n",
       "    .dataframe thead th {\n",
       "        text-align: right;\n",
       "    }\n",
       "</style>\n",
       "<table border=\"1\" class=\"dataframe\">\n",
       "  <thead>\n",
       "    <tr style=\"text-align: right;\">\n",
       "      <th></th>\n",
       "      <th>Idade</th>\n",
       "      <th>Altura</th>\n",
       "    </tr>\n",
       "  </thead>\n",
       "  <tbody>\n",
       "    <tr>\n",
       "      <th>0</th>\n",
       "      <td>25</td>\n",
       "      <td>1.72</td>\n",
       "    </tr>\n",
       "    <tr>\n",
       "      <th>1</th>\n",
       "      <td>32</td>\n",
       "      <td>1.85</td>\n",
       "    </tr>\n",
       "    <tr>\n",
       "      <th>2</th>\n",
       "      <td>47</td>\n",
       "      <td>1.68</td>\n",
       "    </tr>\n",
       "    <tr>\n",
       "      <th>3</th>\n",
       "      <td>19</td>\n",
       "      <td>1.90</td>\n",
       "    </tr>\n",
       "    <tr>\n",
       "      <th>4</th>\n",
       "      <td>52</td>\n",
       "      <td>1.75</td>\n",
       "    </tr>\n",
       "    <tr>\n",
       "      <th>5</th>\n",
       "      <td>32</td>\n",
       "      <td>1.85</td>\n",
       "    </tr>\n",
       "  </tbody>\n",
       "</table>\n",
       "</div>"
      ],
      "text/plain": [
       "   Idade  Altura\n",
       "0     25    1.72\n",
       "1     32    1.85\n",
       "2     47    1.68\n",
       "3     19    1.90\n",
       "4     52    1.75\n",
       "5     32    1.85"
      ]
     },
     "execution_count": 15,
     "metadata": {},
     "output_type": "execute_result"
    }
   ],
   "source": [
    "import pandas as pd\n",
    "\n",
    "# Criar o DataFrame com duas variáveis\n",
    "dados = {\n",
    "    \"Idade\": [25, 32, 47, 19, 52, 32],\n",
    "    \"Altura\": [1.72, 1.85, 1.68, 1.90, 1.75, 1.85]\n",
    "}\n",
    "\n",
    "df = pd.DataFrame(dados)\n",
    "df\n"
   ]
  },
  {
   "cell_type": "markdown",
   "id": "59f03ef7",
   "metadata": {},
   "source": [
    "## Cálculo das Medidas de Posição\n",
    "\n",
    "Vamos calcular:\n",
    "\n",
    "- **Média**: valor médio dos dados\n",
    "- **Mediana**: valor central\n",
    "- **Moda**: valor mais frequente\n",
    "\n",
    "Aplicaremos essas funções às colunas `Idade` e `Altura`.\n"
   ]
  },
  {
   "cell_type": "code",
   "execution_count": 16,
   "id": "ab734ec3",
   "metadata": {},
   "outputs": [
    {
     "name": "stdout",
     "output_type": "stream",
     "text": [
      "Média da Idade: 34.50\n",
      "Mediana da Idade: 32.0\n",
      "Moda da Idade: [32]\n",
      "\n",
      "Média da Altura: 1.79\n",
      "Mediana da Altura: 1.8\n",
      "Moda da Altura: [1.85]\n"
     ]
    }
   ],
   "source": [
    "# Média\n",
    "media_idade = df[\"Idade\"].mean()\n",
    "media_altura = df[\"Altura\"].mean()\n",
    "\n",
    "# Mediana\n",
    "mediana_idade = df[\"Idade\"].median()\n",
    "mediana_altura = df[\"Altura\"].median()\n",
    "\n",
    "# Moda\n",
    "moda_idade = df[\"Idade\"].mode()\n",
    "moda_altura = df[\"Altura\"].mode()\n",
    "\n",
    "print(f\"Média da Idade: {media_idade:.2f}\")\n",
    "print(f\"Mediana da Idade: {mediana_idade}\")\n",
    "print(f\"Moda da Idade: {moda_idade.tolist()}\")\n",
    "\n",
    "print(f\"\\nMédia da Altura: {media_altura:.2f}\")\n",
    "print(f\"Mediana da Altura: {mediana_altura}\")\n",
    "print(f\"Moda da Altura: {moda_altura.tolist()}\")\n"
   ]
  },
  {
   "cell_type": "markdown",
   "id": "2d93eb1a",
   "metadata": {},
   "source": [
    "## Conclusão\n",
    "\n",
    "Neste notebook, vimos como utilizar as funções `mean()`, `median()` e `mode()` do Pandas para extrair medidas de posição.\n",
    "\n",
    "Também destacamos como as células Markdown podem ser usadas para descrever os passos, criando uma documentação clara e didática.\n"
   ]
  }
 ],
 "metadata": {
  "kernelspec": {
   "display_name": "estatistica_devs-MKbpRP2F",
   "language": "python",
   "name": "python3"
  },
  "language_info": {
   "codemirror_mode": {
    "name": "ipython",
    "version": 3
   },
   "file_extension": ".py",
   "mimetype": "text/x-python",
   "name": "python",
   "nbconvert_exporter": "python",
   "pygments_lexer": "ipython3",
   "version": "3.11.0"
  }
 },
 "nbformat": 4,
 "nbformat_minor": 5
}
