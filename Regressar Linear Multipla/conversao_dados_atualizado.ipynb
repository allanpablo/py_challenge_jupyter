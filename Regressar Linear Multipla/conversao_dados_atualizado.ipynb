{
 "cells": [
  {
   "cell_type": "code",
   "execution_count": 1,
   "id": "4b9f434e",
   "metadata": {},
   "outputs": [],
   "source": [
    "import pandas as pd\n",
    "df = pd.read_csv('1701111759794-attachment.csv')\n",
    "df.columns = ['id', 'grupo_sanguineo', 'fumante', 'nivel_atividade', 'idade', 'peso', 'altura', 'colesterol']"
   ]
  },
  {
   "cell_type": "code",
   "execution_count": 2,
   "id": "d276b275",
   "metadata": {},
   "outputs": [],
   "source": [
    "# Tratamento de valores ausentes\n",
    "for coluna in ['idade', 'peso', 'altura', 'colesterol']:\n",
    "    df[coluna] = df[coluna].fillna(df[coluna].median())\n",
    "for coluna in ['grupo_sanguineo', 'fumante', 'nivel_atividade']:\n",
    "    df[coluna] = df[coluna].fillna(df[coluna].mode()[0])"
   ]
  },
  {
   "cell_type": "code",
   "execution_count": 3,
   "id": "ee6c1ef7",
   "metadata": {},
   "outputs": [],
   "source": [
    "# Conversão de tipos\n",
    "df['idade'] = df['idade'].astype(int)\n",
    "df['altura'] = df['altura'].astype(int)"
   ]
  },
  {
   "cell_type": "code",
   "execution_count": 4,
   "id": "a3d24fad",
   "metadata": {},
   "outputs": [
    {
     "data": {
      "text/plain": [
       "id                   int64\n",
       "grupo_sanguineo     object\n",
       "fumante             object\n",
       "nivel_atividade     object\n",
       "idade                int64\n",
       "peso               float64\n",
       "altura               int64\n",
       "colesterol         float64\n",
       "dtype: object"
      ]
     },
     "execution_count": 4,
     "metadata": {},
     "output_type": "execute_result"
    }
   ],
   "source": [
    "# Verificação final\n",
    "df.dtypes"
   ]
  }
 ],
 "metadata": {
  "kernelspec": {
   "display_name": "estatistica_devs-MKbpRP2F",
   "language": "python",
   "name": "python3"
  },
  "language_info": {
   "codemirror_mode": {
    "name": "ipython",
    "version": 3
   },
   "file_extension": ".py",
   "mimetype": "text/x-python",
   "name": "python",
   "nbconvert_exporter": "python",
   "pygments_lexer": "ipython3",
   "version": "3.11.0"
  }
 },
 "nbformat": 4,
 "nbformat_minor": 5
}
