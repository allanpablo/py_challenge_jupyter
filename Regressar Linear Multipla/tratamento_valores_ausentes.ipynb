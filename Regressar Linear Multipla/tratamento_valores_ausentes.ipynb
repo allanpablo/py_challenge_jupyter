{
 "cells": [
  {
   "cell_type": "markdown",
   "metadata": {},
   "source": [
    "# 🧼 Tratamento de Valores Ausentes\n",
    "\n",
    "Nesta etapa, lidamos com valores ausentes utilizando a **mediana** para variáveis numéricas (menos sensível a outliers) e a **moda** para variáveis categóricas."
   ]
  },
  {
   "cell_type": "code",
   "execution_count": 1,
   "metadata": {},
   "outputs": [],
   "source": [
    "import pandas as pd\n",
    "\n",
    "# Carregar dados já com nomes técnicos\n",
    "df = pd.read_csv(\"./1701111759794-attachment.csv\")\n",
    "df.columns = [\"id\", \"grupo_sanguineo\", \"fumante\", \"nivel_atividade\", \"idade\", \"peso\", \"altura\", \"colesterol\"]"
   ]
  },
  {
   "cell_type": "markdown",
   "metadata": {},
   "source": [
    "## 📊 Verificar valores ausentes"
   ]
  },
  {
   "cell_type": "code",
   "execution_count": 2,
   "metadata": {},
   "outputs": [
    {
     "data": {
      "text/plain": [
       "id                 0\n",
       "grupo_sanguineo    4\n",
       "fumante            3\n",
       "nivel_atividade    4\n",
       "idade              3\n",
       "peso               3\n",
       "altura             3\n",
       "colesterol         0\n",
       "dtype: int64"
      ]
     },
     "execution_count": 2,
     "metadata": {},
     "output_type": "execute_result"
    }
   ],
   "source": [
    "# Verificar valores nulos\n",
    "df.isnull().sum()"
   ]
  },
  {
   "cell_type": "markdown",
   "metadata": {},
   "source": [
    "## 📌 Preencher valores ausentes\n",
    "- Numéricas: mediana\n",
    "- Categóricas: moda"
   ]
  },
  {
   "cell_type": "code",
   "execution_count": 4,
   "metadata": {},
   "outputs": [
    {
     "data": {
      "text/plain": [
       "id                 0\n",
       "grupo_sanguineo    0\n",
       "fumante            0\n",
       "nivel_atividade    0\n",
       "idade              0\n",
       "peso               0\n",
       "altura             0\n",
       "colesterol         0\n",
       "dtype: int64"
      ]
     },
     "execution_count": 4,
     "metadata": {},
     "output_type": "execute_result"
    }
   ],
   "source": [
    "# Preencher valores numéricos com a mediana\n",
    "numericas = [\"idade\", \"peso\", \"altura\", \"colesterol\"]\n",
    "for coluna in numericas:\n",
    "    mediana = df[coluna].median()\n",
    "    df[coluna] = df[coluna].fillna(mediana)\n",
    "\n",
    "# Preencher categóricas com a moda\n",
    "categoricas = [\"grupo_sanguineo\", \"fumante\", \"nivel_atividade\"]\n",
    "for coluna in categoricas:\n",
    "    moda = df[coluna].mode()[0]\n",
    "    df[coluna] = df[coluna].fillna(moda)\n",
    "\n",
    "\n",
    "# Verificação final\n",
    "df.isnull().sum()"
   ]
  }
 ],
 "metadata": {
  "kernelspec": {
   "display_name": "estatistica_devs-MKbpRP2F",
   "language": "python",
   "name": "python3"
  },
  "language_info": {
   "codemirror_mode": {
    "name": "ipython",
    "version": 3
   },
   "file_extension": ".py",
   "mimetype": "text/x-python",
   "name": "python",
   "nbconvert_exporter": "python",
   "pygments_lexer": "ipython3",
   "version": "3.11.0"
  }
 },
 "nbformat": 4,
 "nbformat_minor": 2
}
