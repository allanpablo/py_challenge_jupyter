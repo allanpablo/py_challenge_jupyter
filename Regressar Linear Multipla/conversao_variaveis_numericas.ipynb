{
 "cells": [
  {
   "cell_type": "markdown",
   "id": "df2e4c9b",
   "metadata": {},
   "source": [
    "# Conversão de Variáveis Numéricas\n",
    "\n",
    "Neste notebook, vamos:\n",
    "- Tratar valores ausentes (já tratado anteriormente)\n",
    "- Converter colunas numéricas para tipos apropriados (ex: `float` → `int`)\n"
   ]
  },
  {
   "cell_type": "code",
   "execution_count": null,
   "id": "56df5790",
   "metadata": {},
   "outputs": [],
   "source": [
    "import pandas as pd\n",
    "\n",
    "# Carregar dados tratados com ausência resolvida\n",
    "df = pd.read_csv(\"1701111759794-attachment.csv\")\n",
    "\n",
    "# Preencher valores ausentes (garantia)\n",
    "df[\"idade\"] = df[\"idade\"].fillna(df[\"idade\"].median())\n",
    "df[\"altura\"] = df[\"altura\"].fillna(df[\"altura\"].median())\n",
    "\n",
    "# Converter tipos numéricos\n",
    "df[\"idade\"] = df[\"idade\"].astype(int)\n",
    "df[\"altura\"] = df[\"altura\"].astype(int)\n",
    "\n",
    "# Verificar os tipos atualizados\n",
    "print(df.dtypes)\n"
   ]
  }
 ],
 "metadata": {
  "kernelspec": {
   "display_name": "estatistica_devs-MKbpRP2F",
   "language": "python",
   "name": "python3"
  },
  "language_info": {
   "name": "python",
   "version": "3.11.0"
  }
 },
 "nbformat": 4,
 "nbformat_minor": 5
}
