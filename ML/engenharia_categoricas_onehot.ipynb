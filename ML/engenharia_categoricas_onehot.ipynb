{
 "cells": [
  {
   "cell_type": "markdown",
   "id": "ebac7090",
   "metadata": {},
   "source": [
    "# 🧠 Preparação de Variáveis Categóricas para Modelos de Regressão"
   ]
  },
  {
   "cell_type": "markdown",
   "id": "6a143ed9",
   "metadata": {},
   "source": [
    "## 🎯 Objetivo\n",
    "Converter variáveis categóricas em numéricas usando **One-Hot Encoding**, e preparar o dataset para uso em modelos de regressão."
   ]
  },
  {
   "cell_type": "markdown",
   "id": "e38db0a3",
   "metadata": {},
   "source": [
    "## 📦 Etapa 1: Importar bibliotecas"
   ]
  },
  {
   "cell_type": "code",
   "execution_count": 1,
   "id": "026981d3",
   "metadata": {},
   "outputs": [],
   "source": [
    "import pandas as pd"
   ]
  },
  {
   "cell_type": "markdown",
   "id": "16ce828b",
   "metadata": {},
   "source": [
    "## 📂 Etapa 2: Carregar o dataset"
   ]
  },
  {
   "cell_type": "code",
   "execution_count": 2,
   "id": "b83b066d",
   "metadata": {},
   "outputs": [
    {
     "data": {
      "text/html": [
       "<div>\n",
       "<style scoped>\n",
       "    .dataframe tbody tr th:only-of-type {\n",
       "        vertical-align: middle;\n",
       "    }\n",
       "\n",
       "    .dataframe tbody tr th {\n",
       "        vertical-align: top;\n",
       "    }\n",
       "\n",
       "    .dataframe thead th {\n",
       "        text-align: right;\n",
       "    }\n",
       "</style>\n",
       "<table border=\"1\" class=\"dataframe\">\n",
       "  <thead>\n",
       "    <tr style=\"text-align: right;\">\n",
       "      <th></th>\n",
       "      <th>id_paciente</th>\n",
       "      <th>genero</th>\n",
       "      <th>idade</th>\n",
       "      <th>peso</th>\n",
       "      <th>altura</th>\n",
       "      <th>resultado</th>\n",
       "    </tr>\n",
       "  </thead>\n",
       "  <tbody>\n",
       "    <tr>\n",
       "      <th>0</th>\n",
       "      <td>1</td>\n",
       "      <td>M</td>\n",
       "      <td>46</td>\n",
       "      <td>83</td>\n",
       "      <td>165</td>\n",
       "      <td>98</td>\n",
       "    </tr>\n",
       "    <tr>\n",
       "      <th>1</th>\n",
       "      <td>2</td>\n",
       "      <td>F</td>\n",
       "      <td>23</td>\n",
       "      <td>83</td>\n",
       "      <td>164</td>\n",
       "      <td>82</td>\n",
       "    </tr>\n",
       "    <tr>\n",
       "      <th>2</th>\n",
       "      <td>3</td>\n",
       "      <td>M</td>\n",
       "      <td>39</td>\n",
       "      <td>71</td>\n",
       "      <td>154</td>\n",
       "      <td>93</td>\n",
       "    </tr>\n",
       "    <tr>\n",
       "      <th>3</th>\n",
       "      <td>4</td>\n",
       "      <td>F</td>\n",
       "      <td>26</td>\n",
       "      <td>103</td>\n",
       "      <td>165</td>\n",
       "      <td>95</td>\n",
       "    </tr>\n",
       "    <tr>\n",
       "      <th>4</th>\n",
       "      <td>5</td>\n",
       "      <td>M</td>\n",
       "      <td>27</td>\n",
       "      <td>55</td>\n",
       "      <td>176</td>\n",
       "      <td>100</td>\n",
       "    </tr>\n",
       "  </tbody>\n",
       "</table>\n",
       "</div>"
      ],
      "text/plain": [
       "   id_paciente genero  idade  peso  altura  resultado\n",
       "0            1      M     46    83     165         98\n",
       "1            2      F     23    83     164         82\n",
       "2            3      M     39    71     154         93\n",
       "3            4      F     26   103     165         95\n",
       "4            5      M     27    55     176        100"
      ]
     },
     "execution_count": 2,
     "metadata": {},
     "output_type": "execute_result"
    }
   ],
   "source": [
    "df = pd.read_csv(\"exame_diabes.csv\")\n",
    "df.head()"
   ]
  },
  {
   "cell_type": "markdown",
   "id": "0c698189",
   "metadata": {},
   "source": [
    "## 🔍 Etapa 3: Remover colunas irrelevantes"
   ]
  },
  {
   "cell_type": "code",
   "execution_count": 3,
   "id": "bfaae28e",
   "metadata": {},
   "outputs": [],
   "source": [
    "# 'id_paciente' é uma coluna apenas identificadora\n",
    "df = df.drop(columns=[\"id_paciente\"])"
   ]
  },
  {
   "cell_type": "markdown",
   "id": "11cc674e",
   "metadata": {},
   "source": [
    "## 🧠 Etapa 4: Aplicar One-Hot Encoding na variável 'genero'"
   ]
  },
  {
   "cell_type": "code",
   "execution_count": 4,
   "id": "999d8181",
   "metadata": {},
   "outputs": [
    {
     "data": {
      "text/html": [
       "<div>\n",
       "<style scoped>\n",
       "    .dataframe tbody tr th:only-of-type {\n",
       "        vertical-align: middle;\n",
       "    }\n",
       "\n",
       "    .dataframe tbody tr th {\n",
       "        vertical-align: top;\n",
       "    }\n",
       "\n",
       "    .dataframe thead th {\n",
       "        text-align: right;\n",
       "    }\n",
       "</style>\n",
       "<table border=\"1\" class=\"dataframe\">\n",
       "  <thead>\n",
       "    <tr style=\"text-align: right;\">\n",
       "      <th></th>\n",
       "      <th>idade</th>\n",
       "      <th>peso</th>\n",
       "      <th>altura</th>\n",
       "      <th>resultado</th>\n",
       "      <th>genero_M</th>\n",
       "    </tr>\n",
       "  </thead>\n",
       "  <tbody>\n",
       "    <tr>\n",
       "      <th>0</th>\n",
       "      <td>46</td>\n",
       "      <td>83</td>\n",
       "      <td>165</td>\n",
       "      <td>98</td>\n",
       "      <td>True</td>\n",
       "    </tr>\n",
       "    <tr>\n",
       "      <th>1</th>\n",
       "      <td>23</td>\n",
       "      <td>83</td>\n",
       "      <td>164</td>\n",
       "      <td>82</td>\n",
       "      <td>False</td>\n",
       "    </tr>\n",
       "    <tr>\n",
       "      <th>2</th>\n",
       "      <td>39</td>\n",
       "      <td>71</td>\n",
       "      <td>154</td>\n",
       "      <td>93</td>\n",
       "      <td>True</td>\n",
       "    </tr>\n",
       "    <tr>\n",
       "      <th>3</th>\n",
       "      <td>26</td>\n",
       "      <td>103</td>\n",
       "      <td>165</td>\n",
       "      <td>95</td>\n",
       "      <td>False</td>\n",
       "    </tr>\n",
       "    <tr>\n",
       "      <th>4</th>\n",
       "      <td>27</td>\n",
       "      <td>55</td>\n",
       "      <td>176</td>\n",
       "      <td>100</td>\n",
       "      <td>True</td>\n",
       "    </tr>\n",
       "  </tbody>\n",
       "</table>\n",
       "</div>"
      ],
      "text/plain": [
       "   idade  peso  altura  resultado  genero_M\n",
       "0     46    83     165         98      True\n",
       "1     23    83     164         82     False\n",
       "2     39    71     154         93      True\n",
       "3     26   103     165         95     False\n",
       "4     27    55     176        100      True"
      ]
     },
     "execution_count": 4,
     "metadata": {},
     "output_type": "execute_result"
    }
   ],
   "source": [
    "df_encoded = pd.get_dummies(df, columns=[\"genero\"], drop_first=True)\n",
    "df_encoded.head()"
   ]
  },
  {
   "cell_type": "markdown",
   "id": "a3710b2a",
   "metadata": {},
   "source": [
    "## ℹ️ Etapa 5: Visualizar o resultado"
   ]
  },
  {
   "cell_type": "code",
   "execution_count": 5,
   "id": "2e8ec99a",
   "metadata": {},
   "outputs": [
    {
     "name": "stdout",
     "output_type": "stream",
     "text": [
      "Colunas após codificação:\n",
      "Index(['idade', 'peso', 'altura', 'resultado', 'genero_M'], dtype='object')\n"
     ]
    }
   ],
   "source": [
    "print(\"Colunas após codificação:\")\n",
    "print(df_encoded.columns)"
   ]
  },
  {
   "cell_type": "markdown",
   "id": "463e9555",
   "metadata": {},
   "source": [
    "## ✅ Conclusão\n",
    "Agora temos:\n",
    "- A variável 'genero' convertida em binária (`genero_M`)\n",
    "- Somente variáveis numéricas no dataset\n",
    "- Pronto para ser utilizado em modelos de regressão"
   ]
  }
 ],
 "metadata": {
  "kernelspec": {
   "display_name": "estatistica_devs-MKbpRP2F",
   "language": "python",
   "name": "python3"
  },
  "language_info": {
   "codemirror_mode": {
    "name": "ipython",
    "version": 3
   },
   "file_extension": ".py",
   "mimetype": "text/x-python",
   "name": "python",
   "nbconvert_exporter": "python",
   "pygments_lexer": "ipython3",
   "version": "3.11.0"
  }
 },
 "nbformat": 4,
 "nbformat_minor": 5
}
