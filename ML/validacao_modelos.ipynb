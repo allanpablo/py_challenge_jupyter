{
 "cells": [
  {
   "cell_type": "markdown",
   "id": "4e0ea36c",
   "metadata": {},
   "source": [
    "# ✅ Validação de Modelos em Machine Learning\n",
    "\n",
    "Este notebook cobre:\n",
    "- Técnicas de divisão de dados\n",
    "- Métricas para regressão e classificação\n",
    "- Validação cruzada com K-Fold e StratifiedKFold\n",
    "- Importância de métricas técnicas e de negócio\n"
   ]
  },
  {
   "cell_type": "code",
   "execution_count": 1,
   "id": "2bc067f6",
   "metadata": {},
   "outputs": [],
   "source": [
    "from sklearn.datasets import load_iris, make_regression\n",
    "from sklearn.model_selection import train_test_split, KFold, StratifiedKFold, cross_val_score\n",
    "from sklearn.ensemble import RandomForestClassifier\n",
    "from sklearn.linear_model import LinearRegression\n",
    "from sklearn.metrics import classification_report, confusion_matrix, roc_auc_score, accuracy_score\n",
    "from sklearn.metrics import mean_squared_error, r2_score\n",
    "import numpy as np\n",
    "\n",
    "# Dataset de classificação\n",
    "iris = load_iris()\n",
    "X_class, y_class = iris.data, iris.target\n",
    "\n",
    "# Dataset de regressão\n",
    "X_reg, y_reg = make_regression(n_samples=200, n_features=5, noise=10, random_state=42)\n"
   ]
  },
  {
   "cell_type": "code",
   "execution_count": 2,
   "id": "6cf3616e",
   "metadata": {},
   "outputs": [
    {
     "name": "stdout",
     "output_type": "stream",
     "text": [
      "Holdout - Accuracy: 1.0\n",
      "[[19  0  0]\n",
      " [ 0 13  0]\n",
      " [ 0  0 13]]\n",
      "              precision    recall  f1-score   support\n",
      "\n",
      "           0       1.00      1.00      1.00        19\n",
      "           1       1.00      1.00      1.00        13\n",
      "           2       1.00      1.00      1.00        13\n",
      "\n",
      "    accuracy                           1.00        45\n",
      "   macro avg       1.00      1.00      1.00        45\n",
      "weighted avg       1.00      1.00      1.00        45\n",
      "\n"
     ]
    }
   ],
   "source": [
    "# Holdout\n",
    "X_train, X_test, y_train, y_test = train_test_split(X_class, y_class, test_size=0.3, random_state=42)\n",
    "\n",
    "model = RandomForestClassifier()\n",
    "model.fit(X_train, y_train)\n",
    "y_pred = model.predict(X_test)\n",
    "\n",
    "print(\"Holdout - Accuracy:\", accuracy_score(y_test, y_pred))\n",
    "print(confusion_matrix(y_test, y_pred))\n",
    "print(classification_report(y_test, y_pred))\n"
   ]
  },
  {
   "cell_type": "code",
   "execution_count": 3,
   "id": "82ef0b6c",
   "metadata": {},
   "outputs": [
    {
     "name": "stdout",
     "output_type": "stream",
     "text": [
      "Stratified K-Fold Accuracy médio: 0.9600000000000002\n"
     ]
    }
   ],
   "source": [
    "# Stratified K-Fold\n",
    "skf = StratifiedKFold(n_splits=5, shuffle=True, random_state=42)\n",
    "model = RandomForestClassifier()\n",
    "\n",
    "scores = cross_val_score(model, X_class, y_class, cv=skf, scoring='accuracy')\n",
    "print(\"Stratified K-Fold Accuracy médio:\", scores.mean())\n"
   ]
  },
  {
   "cell_type": "code",
   "execution_count": 4,
   "id": "0b152a99",
   "metadata": {},
   "outputs": [
    {
     "name": "stdout",
     "output_type": "stream",
     "text": [
      "MSE: 81.97319663326444\n",
      "R²: 0.989523773670609\n"
     ]
    }
   ],
   "source": [
    "X_train_r, X_test_r, y_train_r, y_test_r = train_test_split(X_reg, y_reg, test_size=0.3, random_state=42)\n",
    "\n",
    "reg = LinearRegression()\n",
    "reg.fit(X_train_r, y_train_r)\n",
    "y_pred_r = reg.predict(X_test_r)\n",
    "\n",
    "print(\"MSE:\", mean_squared_error(y_test_r, y_pred_r))\n",
    "print(\"R²:\", r2_score(y_test_r, y_pred_r))\n"
   ]
  },
  {
   "cell_type": "markdown",
   "id": "da7494c1",
   "metadata": {},
   "source": [
    "## 🧭 Métricas Técnicas vs Métricas de Negócio\n",
    "\n",
    "| Técnicas               | Negócio                         |\n",
    "|------------------------|----------------------------------|\n",
    "| Accuracy, MSE, ROC     | Redução de churn, aumento de vendas |\n",
    "| Tempo de inferência    | SLA de resposta                  |\n",
    "| Interpretação de modelo| Decisão clínica ou regulatória   |\n",
    "| Robustez               | Segurança em produção            |\n"
   ]
  },
  {
   "cell_type": "markdown",
   "id": "a8cdd875",
   "metadata": {},
   "source": [
    "## 🛡️ Avaliação além da métrica\n",
    "\n",
    "- **Interpretabilidade**: SHAP, LIME\n",
    "- **Justiça (Fairness)**: análise de viés\n",
    "- **Eficiência Computacional**\n",
    "- **Segurança**: modelos robustos contra dados adversariais\n"
   ]
  }
 ],
 "metadata": {
  "kernelspec": {
   "display_name": "estatistica_devs-MKbpRP2F",
   "language": "python",
   "name": "python3"
  },
  "language_info": {
   "codemirror_mode": {
    "name": "ipython",
    "version": 3
   },
   "file_extension": ".py",
   "mimetype": "text/x-python",
   "name": "python",
   "nbconvert_exporter": "python",
   "pygments_lexer": "ipython3",
   "version": "3.11.0"
  }
 },
 "nbformat": 4,
 "nbformat_minor": 5
}
