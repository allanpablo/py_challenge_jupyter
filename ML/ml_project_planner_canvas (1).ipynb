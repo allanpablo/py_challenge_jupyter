{
 "cells": [
  {
   "cell_type": "markdown",
   "id": "337b79f1",
   "metadata": {},
   "source": [
    "# 🧱 Planejamento de Projetos de Machine Learning\n",
    "\n",
    "Este notebook usa estruturas como **ML Canvas**, **AI Canvas** e **CRISP-DM** para ajudar você a organizar e comunicar projetos de ML de forma colaborativa e iterativa.\n"
   ]
  },
  {
   "cell_type": "markdown",
   "id": "baa38bc2",
   "metadata": {},
   "source": [
    "## 🧭 AI Canvas (Foco humano)\n",
    "\n",
    "Preencha os campos abaixo para alinhar seu projeto com o impacto social e humano.\n"
   ]
  },
  {
   "cell_type": "code",
   "execution_count": 1,
   "id": "3b715f34",
   "metadata": {},
   "outputs": [
    {
     "name": "stdout",
     "output_type": "stream",
     "text": [
      "Impactados: ...\n",
      "Problema: ...\n",
      "Decisão: ...\n",
      "Riscos: ...\n"
     ]
    }
   ],
   "source": [
    "# 👤 Quem será impactado por este projeto?\n",
    "impactados = \"...\"\n",
    "\n",
    "# 🎯 Qual o problema de negócio?\n",
    "problema = \"...\"\n",
    "\n",
    "# 🧠 Que tipo de decisão será automatizada?\n",
    "decisao = \"...\"\n",
    "\n",
    "# ⚠️ Riscos éticos, sociais ou legais?\n",
    "riscos = \"...\"\n",
    "\n",
    "# Visualização rápida\n",
    "print(\"Impactados:\", impactados)\n",
    "print(\"Problema:\", problema)\n",
    "print(\"Decisão:\", decisao)\n",
    "print(\"Riscos:\", riscos)\n"
   ]
  },
  {
   "cell_type": "markdown",
   "id": "521368b9",
   "metadata": {},
   "source": [
    "## 📐 ML Canvas (Técnico e completo)\n",
    "\n",
    "Use esta estrutura para mapear os principais componentes técnicos e operacionais do seu modelo.\n"
   ]
  },
  {
   "cell_type": "code",
   "execution_count": 2,
   "id": "cee0a8b2",
   "metadata": {},
   "outputs": [
    {
     "name": "stdout",
     "output_type": "stream",
     "text": [
      "Objetivo: ...\n",
      "Features: ['...']\n",
      "Target: ...\n",
      "KPI: ...\n"
     ]
    }
   ],
   "source": [
    "# 🎯 Objetivo do modelo:\n",
    "objetivo_modelo = \"...\"\n",
    "\n",
    "# 🗃️ Fontes de dados:\n",
    "fontes_dados = [\"...\"]\n",
    "\n",
    "# 🧪 Variáveis preditoras (features):\n",
    "features = [\"...\"]\n",
    "\n",
    "# 🎯 Target (variável a ser prevista):\n",
    "target = \"...\"\n",
    "\n",
    "# 📏 Métrica de sucesso (KPI):\n",
    "kpi = \"...\"\n",
    "\n",
    "# 👥 Atores envolvidos (stakeholders):\n",
    "stakeholders = [\"...\"]\n",
    "\n",
    "# 🛑 Riscos técnicos / operacionais:\n",
    "riscos_tec = \"...\"\n",
    "\n",
    "# 🔍 Como o modelo será monitorado?\n",
    "monitoramento = \"...\"\n",
    "\n",
    "# Visualização\n",
    "print(\"Objetivo:\", objetivo_modelo)\n",
    "print(\"Features:\", features)\n",
    "print(\"Target:\", target)\n",
    "print(\"KPI:\", kpi)\n"
   ]
  },
  {
   "cell_type": "markdown",
   "id": "6acdde9d",
   "metadata": {},
   "source": [
    "## 🔁 CRISP-DM - Ciclo de Vida do Projeto\n",
    "\n",
    "Checklist para guiar execução iterativa.\n"
   ]
  },
  {
   "cell_type": "code",
   "execution_count": 3,
   "id": "cad5013f",
   "metadata": {},
   "outputs": [
    {
     "name": "stdout",
     "output_type": "stream",
     "text": [
      "1 - Entendimento do negócio: ...\n",
      "2 - Entendimento dos dados: ...\n",
      "3 - Preparação dos dados: ...\n",
      "4 - Modelagem: ...\n",
      "5 - Avaliação do modelo: ...\n",
      "6 - Implantação e operação: ...\n"
     ]
    }
   ],
   "source": [
    "crisp_dm = {\n",
    "    \"1 - Entendimento do negócio\": \"...\",\n",
    "    \"2 - Entendimento dos dados\": \"...\",\n",
    "    \"3 - Preparação dos dados\": \"...\",\n",
    "    \"4 - Modelagem\": \"...\",\n",
    "    \"5 - Avaliação do modelo\": \"...\",\n",
    "    \"6 - Implantação e operação\": \"...\"\n",
    "}\n",
    "\n",
    "for etapa, status in crisp_dm.items():\n",
    "    print(f\"{etapa}: {status}\")\n"
   ]
  },
  {
   "cell_type": "markdown",
   "id": "67e02fca",
   "metadata": {},
   "source": [
    "## 📊 Visão Consolidada do Projeto\n",
    "\n",
    "Use esta célula para documentar a visão geral, resumo executivo ou plano de entrega.\n"
   ]
  },
  {
   "cell_type": "code",
   "execution_count": 4,
   "id": "3a467211",
   "metadata": {},
   "outputs": [
    {
     "name": "stdout",
     "output_type": "stream",
     "text": [
      "\n",
      "Resumo do projeto, principais entregas, equipe responsável e cronograma.\n",
      "\n"
     ]
    }
   ],
   "source": [
    "visao_geral = '''\n",
    "Resumo do projeto, principais entregas, equipe responsável e cronograma.\n",
    "'''\n",
    "print(visao_geral)\n"
   ]
  }
 ],
 "metadata": {
  "kernelspec": {
   "display_name": "estatistica_devs-MKbpRP2F",
   "language": "python",
   "name": "python3"
  },
  "language_info": {
   "codemirror_mode": {
    "name": "ipython",
    "version": 3
   },
   "file_extension": ".py",
   "mimetype": "text/x-python",
   "name": "python",
   "nbconvert_exporter": "python",
   "pygments_lexer": "ipython3",
   "version": "3.11.0"
  }
 },
 "nbformat": 4,
 "nbformat_minor": 5
}
