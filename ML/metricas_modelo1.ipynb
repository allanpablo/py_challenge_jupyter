{
 "cells": [
  {
   "cell_type": "markdown",
   "id": "bde5e52d",
   "metadata": {},
   "source": [
    "# 📏 Avaliação do Modelo 1 - Métricas de Regressão"
   ]
  },
  {
   "cell_type": "markdown",
   "id": "f21262b6",
   "metadata": {},
   "source": [
    "## 🎯 Objetivo\n",
    "Avaliar o desempenho do Modelo 1 (todas as variáveis) usando métricas R² e MAE."
   ]
  },
  {
   "cell_type": "markdown",
   "id": "7f51c007",
   "metadata": {},
   "source": [
    "## 📦 Etapa 1: Importações"
   ]
  },
  {
   "cell_type": "code",
   "execution_count": 1,
   "id": "1dec04c4",
   "metadata": {},
   "outputs": [],
   "source": [
    "import pandas as pd\n",
    "from sklearn.linear_model import LinearRegression\n",
    "from sklearn.model_selection import train_test_split\n",
    "from sklearn.metrics import r2_score, mean_absolute_error"
   ]
  },
  {
   "cell_type": "markdown",
   "id": "7b1eddaf",
   "metadata": {},
   "source": [
    "## 📂 Etapa 2: Preparação dos dados"
   ]
  },
  {
   "cell_type": "code",
   "execution_count": 2,
   "id": "18beaa46",
   "metadata": {},
   "outputs": [],
   "source": [
    "df = pd.read_csv(\"exame_diabes.csv\")\n",
    "df = df.drop(columns=[\"id_paciente\"])\n",
    "df = pd.get_dummies(df, columns=[\"genero\"], drop_first=True)\n",
    "# Criar coluna IMC\n",
    "df[\"altura_m\"] = df[\"altura\"] / 100\n",
    "df[\"imc\"] = df[\"peso\"] / (df[\"altura_m\"] ** 2)\n",
    "df.drop(columns=[\"altura_m\"], inplace=True)\n"
   ]
  },
  {
   "cell_type": "markdown",
   "id": "0acc98cb",
   "metadata": {},
   "source": [
    "## 📐 Etapa 3: Separar variáveis"
   ]
  },
  {
   "cell_type": "code",
   "execution_count": 3,
   "id": "6c04238d",
   "metadata": {},
   "outputs": [],
   "source": [
    "X = df.drop(columns=[\"resultado\"])\n",
    "y = df[\"resultado\"]\n",
    "X_train, X_test, y_train, y_test = train_test_split(X, y, test_size=0.3, random_state=42)"
   ]
  },
  {
   "cell_type": "markdown",
   "id": "f53815c9",
   "metadata": {},
   "source": [
    "## 🧠 Etapa 4: Treinar modelo"
   ]
  },
  {
   "cell_type": "code",
   "execution_count": 4,
   "id": "46bdbbfa",
   "metadata": {},
   "outputs": [],
   "source": [
    "modelo1 = LinearRegression()\n",
    "modelo1.fit(X_train, y_train)\n",
    "y_pred = modelo1.predict(X_test)"
   ]
  },
  {
   "cell_type": "markdown",
   "id": "9282a16f",
   "metadata": {},
   "source": [
    "## 📊 Etapa 5: Avaliação com métricas"
   ]
  },
  {
   "cell_type": "code",
   "execution_count": 5,
   "id": "84cc9e8c",
   "metadata": {},
   "outputs": [
    {
     "name": "stdout",
     "output_type": "stream",
     "text": [
      "R²: -0.1602\n",
      "MAE: 10.6581\n"
     ]
    }
   ],
   "source": [
    "r2 = r2_score(y_test, y_pred)\n",
    "mae = mean_absolute_error(y_test, y_pred)\n",
    "print(\"R²:\", round(r2, 4))\n",
    "print(\"MAE:\", round(mae, 4))"
   ]
  },
  {
   "cell_type": "markdown",
   "id": "a90be893",
   "metadata": {},
   "source": [
    "## ✅ Conclusão"
   ]
  },
  {
   "cell_type": "code",
   "execution_count": null,
   "id": "8df795ee",
   "metadata": {},
   "outputs": [],
   "source": [
    "- R² indica **quanto da variação dos dados** é explicada pelo modelo (ideal > 0.7)\n",
    "- MAE mostra o **erro médio absoluto** das previsões (ideal o menor possível)\n",
    "- Com base nesses valores, decidiremos se o modelo precisa de ajustes ou comparação com alternativas"
   ]
  },
  {
   "cell_type": "code",
   "execution_count": null,
   "id": "149b317c",
   "metadata": {},
   "outputs": [],
   "source": [
    "> No próximo notebook: comparação com o modelo 2 (apenas IMC como variável explicativa)\n"
   ]
  }
 ],
 "metadata": {
  "kernelspec": {
   "display_name": "estatistica_devs-MKbpRP2F",
   "language": "python",
   "name": "python3"
  },
  "language_info": {
   "codemirror_mode": {
    "name": "ipython",
    "version": 3
   },
   "file_extension": ".py",
   "mimetype": "text/x-python",
   "name": "python",
   "nbconvert_exporter": "python",
   "pygments_lexer": "ipython3",
   "version": "3.11.0"
  }
 },
 "nbformat": 4,
 "nbformat_minor": 5
}
