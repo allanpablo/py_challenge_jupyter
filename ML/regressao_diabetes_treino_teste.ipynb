{
 "cells": [
  {
   "cell_type": "markdown",
   "id": "12f11fb9",
   "metadata": {},
   "source": [
    "# 📊 Regressão Linear Simples - Divisão Treino/Teste no Modelo de Diabetes"
   ]
  },
  {
   "cell_type": "markdown",
   "id": "7864ff89",
   "metadata": {},
   "source": [
    "## 🎯 Objetivo\n",
    "Preparar o dataset e dividir em treino/teste para avaliar modelos de regressão com e sem IMC."
   ]
  },
  {
   "cell_type": "markdown",
   "id": "93ea0fc9",
   "metadata": {},
   "source": [
    "## 📦 Etapa 1: Importação das bibliotecas"
   ]
  },
  {
   "cell_type": "code",
   "execution_count": 1,
   "id": "16e561b1",
   "metadata": {},
   "outputs": [],
   "source": [
    "import pandas as pd\n",
    "from sklearn.linear_model import LinearRegression\n",
    "from sklearn.model_selection import train_test_split\n",
    "from sklearn.metrics import mean_absolute_error, r2_score"
   ]
  },
  {
   "cell_type": "markdown",
   "id": "bdfe7b2e",
   "metadata": {},
   "source": [
    "## 📂 Etapa 2: Carregando e preparando os dados\n"
   ]
  },
  {
   "cell_type": "code",
   "execution_count": 2,
   "id": "5f60906d",
   "metadata": {},
   "outputs": [],
   "source": [
    "df = pd.read_csv(\"exame_diabes.csv\")\n",
    "df = df.drop(columns=[\"id_paciente\"])\n",
    "df = pd.get_dummies(df, columns=[\"genero\"], drop_first=True)"
   ]
  },
  {
   "cell_type": "markdown",
   "id": "7b6c5c8e",
   "metadata": {},
   "source": [
    "# Criar coluna de IMC"
   ]
  },
  {
   "cell_type": "code",
   "execution_count": 3,
   "id": "64f8e99d",
   "metadata": {},
   "outputs": [],
   "source": [
    "df[\"altura_m\"] = df[\"altura\"] / 100\n",
    "df[\"imc\"] = df[\"peso\"] / (df[\"altura_m\"] ** 2)\n",
    "df.drop(columns=[\"altura_m\"], inplace=True)"
   ]
  },
  {
   "cell_type": "markdown",
   "id": "ec59ef17",
   "metadata": {},
   "source": [
    "## 📐 Etapa 3: Separar variáveis X (explicativas) e y (target)\n",
    "### 🔹 Modelo 1: todas as features exceto 'resultado'"
   ]
  },
  {
   "cell_type": "code",
   "execution_count": 4,
   "id": "f901447b",
   "metadata": {},
   "outputs": [],
   "source": [
    "X1 = df.drop(columns=[\"resultado\"])\n",
    "y = df[\"resultado\"]"
   ]
  },
  {
   "cell_type": "markdown",
   "id": "91e6b183",
   "metadata": {},
   "source": [
    "### 🔹 Modelo 2: apenas 'imc' como preditor"
   ]
  },
  {
   "cell_type": "code",
   "execution_count": 5,
   "id": "52ee1cb4",
   "metadata": {},
   "outputs": [],
   "source": [
    "X2 = df[[\"imc\"]]"
   ]
  },
  {
   "cell_type": "markdown",
   "id": "c647221b",
   "metadata": {},
   "source": [
    "## ✂️ Etapa 4: Divisão treino/teste (70/30)"
   ]
  },
  {
   "cell_type": "code",
   "execution_count": 6,
   "id": "d94e679f",
   "metadata": {},
   "outputs": [],
   "source": [
    "X1_train, X1_test, y1_train, y1_test = train_test_split(X1, y, test_size=0.3, random_state=42)\n",
    "X2_train, X2_test, y2_train, y2_test = train_test_split(X2, y, test_size=0.3, random_state=42)"
   ]
  },
  {
   "cell_type": "markdown",
   "id": "cd18d414",
   "metadata": {},
   "source": [
    "## 📈 Etapa 5: Treinar e avaliar modelos"
   ]
  },
  {
   "cell_type": "code",
   "execution_count": 7,
   "id": "8b7b9b53",
   "metadata": {},
   "outputs": [],
   "source": [
    "modelo1 = LinearRegression().fit(X1_train, y1_train)\n",
    "modelo2 = LinearRegression().fit(X2_train, y2_train)"
   ]
  },
  {
   "cell_type": "code",
   "execution_count": 8,
   "id": "ffc6d900",
   "metadata": {},
   "outputs": [],
   "source": [
    "y1_pred = modelo1.predict(X1_test)\n",
    "y2_pred = modelo2.predict(X2_test)"
   ]
  },
  {
   "cell_type": "code",
   "execution_count": 9,
   "id": "90aa396f",
   "metadata": {},
   "outputs": [
    {
     "name": "stdout",
     "output_type": "stream",
     "text": [
      "Modelo 1 (todas as variáveis):\n",
      "MAE: 10.658071277528022\n",
      "R² : -0.16015589060715918\n"
     ]
    }
   ],
   "source": [
    "print(\"Modelo 1 (todas as variáveis):\")\n",
    "print(\"MAE:\", mean_absolute_error(y1_test, y1_pred))\n",
    "print(\"R² :\", r2_score(y1_test, y1_pred))"
   ]
  },
  {
   "cell_type": "code",
   "execution_count": 11,
   "id": "ad5cd1d4",
   "metadata": {},
   "outputs": [
    {
     "name": "stdout",
     "output_type": "stream",
     "text": [
      "\n",
      "Modelo 2 (apenas IMC):\n",
      "MAE: 9.906676504559353\n",
      "R² : -0.05667934120992646\n"
     ]
    }
   ],
   "source": [
    "print(\"\\nModelo 2 (apenas IMC):\")\n",
    "print(\"MAE:\", mean_absolute_error(y2_test, y2_pred))\n",
    "print(\"R² :\", r2_score(y2_test, y2_pred))"
   ]
  },
  {
   "cell_type": "markdown",
   "id": "d3bd15af",
   "metadata": {},
   "source": [
    "## ✅ Conclusão"
   ]
  },
  {
   "cell_type": "markdown",
   "id": "a11311f0",
   "metadata": {},
   "source": [
    "- Dividimos os dados com `train_test_split` (70% treino, 30% teste)\n",
    "- Avaliamos dois modelos:\n",
    "  - Modelo 1: múltiplas features\n",
    "  - Modelo 2: somente IMC\n",
    "- Métricas como MAE e R² indicam qual modelo tem melhor desempenho preditivo\n"
   ]
  }
 ],
 "metadata": {
  "kernelspec": {
   "display_name": "estatistica_devs-MKbpRP2F",
   "language": "python",
   "name": "python3"
  },
  "language_info": {
   "codemirror_mode": {
    "name": "ipython",
    "version": 3
   },
   "file_extension": ".py",
   "mimetype": "text/x-python",
   "name": "python",
   "nbconvert_exporter": "python",
   "pygments_lexer": "ipython3",
   "version": "3.11.0"
  }
 },
 "nbformat": 4,
 "nbformat_minor": 5
}
