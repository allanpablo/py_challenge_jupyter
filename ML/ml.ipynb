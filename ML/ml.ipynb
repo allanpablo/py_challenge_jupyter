{
 "cells": [
  {
   "cell_type": "markdown",
   "id": "1b339180",
   "metadata": {},
   "source": [
    "# 📘 Introdução ao Machine Learning\n",
    "\n",
    "## 💡 O que é Machine Learning?\n",
    "\n",
    "Machine Learning (ML) é uma subárea da Inteligência Artificial que permite que algoritmos aprendam **automaticamente a partir de dados**, sem serem explicitamente programados para cada tarefa.\n",
    "\n",
    "O modelo é treinado com exemplos, identifica padrões e, após treinado, pode **fazer previsões ou tomar decisões** com base em novos dados.\n",
    "\n",
    "---\n",
    "\n",
    "## 🔁 Fluxo Geral\n",
    "\n",
    "1. **Coleta e preparação dos dados**\n",
    "2. **Divisão entre dados de entrada (X) e resposta esperada (y)**\n",
    "3. **Treinamento de um algoritmo com esses dados**\n",
    "4. **Avaliação do desempenho**\n",
    "5. **Uso do modelo para prever em novos dados**\n",
    "6. **Ajustes e iteração**\n",
    "\n",
    "---\n",
    "\n",
    "## 📦 Tipos comuns de problemas em ML\n",
    "\n",
    "| Tipo         | Exemplo prático                         | Algoritmo típico             |\n",
    "|--------------|------------------------------------------|------------------------------|\n",
    "| Classificação| Prever se um cliente vai cancelar (churn) | Random Forest, SVM, XGBoost |\n",
    "| Regressão    | Estimar valor de faturamento futuro       | Linear Regression, XGBoost  |\n",
    "| Agrupamento  | Agrupar perfis de clientes                | K-Means, DBSCAN             |\n",
    "| Séries Temporais | Previsão de demanda/dados no tempo    | ARIMA, Prophet, LSTM        |\n",
    "\n",
    "---\n",
    "\n",
    "## ⚙️ Exemplo prático (pipeline típico)\n",
    "\n",
    "```python\n",
    "from sklearn.model_selection import train_test_split\n",
    "from sklearn.ensemble import RandomForestClassifier\n",
    "from sklearn.metrics import classification_report\n",
    "\n",
    "# X: dados de entrada, y: alvo\n",
    "X_train, X_test, y_train, y_test = train_test_split(X, y, test_size=0.3)\n",
    "\n",
    "model = RandomForestClassifier()\n",
    "model.fit(X_train, y_train)\n",
    "pred = model.predict(X_test)\n",
    "\n",
    "print(classification_report(y_test, pred))\n"
   ]
  }
 ],
 "metadata": {
  "kernelspec": {
   "display_name": "estatistica_devs-MKbpRP2F",
   "language": "python",
   "name": "python3"
  },
  "language_info": {
   "name": "python",
   "version": "3.11.0"
  }
 },
 "nbformat": 4,
 "nbformat_minor": 5
}
