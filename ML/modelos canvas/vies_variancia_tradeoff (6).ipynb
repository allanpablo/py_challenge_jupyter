{
 "cells": [
  {
   "cell_type": "markdown",
   "id": "9a158434",
   "metadata": {},
   "source": [
    "# ⚖️ Trade-off entre Viés e Variância\n",
    "\n",
    "Este notebook demonstra o equilíbrio necessário entre:\n",
    "- **Viés**: erro sistemático por modelo muito simples (underfitting)\n",
    "- **Variância**: sensibilidade excessiva aos dados de treino (overfitting)\n",
    "\n",
    "Objetivo: encontrar um meio-termo que generalize bem.\n"
   ]
  },
  {
   "cell_type": "code",
   "execution_count": null,
   "id": "6bb4e0af",
   "metadata": {},
   "outputs": [],
   "source": [
    "import numpy as np\n",
    "import matplotlib.pyplot as plt\n",
    "from sklearn.preprocessing import PolynomialFeatures\n",
    "from sklearn.linear_model import LinearRegression\n",
    "from sklearn.model_selection import train_test_split\n",
    "from sklearn.metrics import mean_squared_error\n",
    "\n",
    "# Dados simulados\n",
    "np.random.seed(42)\n",
    "X = np.sort(np.random.rand(100, 1) * 10, axis=0)\n",
    "y = np.sin(X).ravel() + np.random.normal(0, 0.2, X.shape[0])\n",
    "\n",
    "# Split\n",
    "X_train, X_test, y_train, y_test = train_test_split(X, y)\n",
    "\n",
    "# Graus de complexidade\n",
    "graus = [1, 4, 15]\n",
    "plt.figure(figsize=(15, 4))\n",
    "\n",
    "for i, grau in enumerate(graus):\n",
    "    poly = PolynomialFeatures(degree=grau)\n",
    "    X_train_poly = poly.fit_transform(X_train)\n",
    "    X_test_poly = poly.transform(X_test)\n",
    "\n",
    "    model = LinearRegression().fit(X_train_poly, y_train)\n",
    "    y_pred = model.predict(X_test_poly)\n",
    "    mse = mean_squared_error(y_test, y_pred)\n",
    "\n",
    "    plt.subplot(1, 3, i+1)\n",
    "    plt.scatter(X_test, y_test, color='black', s=10, label='Real')\n",
    "    plt.scatter(X_test, y_pred, color='red', s=10, label='Predito')\n",
    "    plt.title(f\"Grau {grau} - MSE: {mse:.2f}\")\n",
    "    plt.xlabel(\"X\")\n",
    "    plt.ylabel(\"y\")\n",
    "    plt.legend()\n",
    "\n",
    "plt.suptitle(\"Viés vs Variância - Comparação Visual\")\n",
    "plt.tight_layout()\n",
    "plt.show()\n"
   ]
  },
  {
   "cell_type": "markdown",
   "id": "e5e6419a",
   "metadata": {},
   "source": [
    "## ✅ Conclusões\n",
    "\n",
    "- **Grau 1**: modelo com alto viés, não aprende a estrutura → *underfitting*\n",
    "- **Grau 15**: modelo com alta variância, aprende até o ruído → *overfitting*\n",
    "- **Grau 4**: bom equilíbrio entre viés e variância\n",
    "\n",
    "Ajustar a complexidade do modelo é essencial para generalização.\n"
   ]
  }
 ],
 "metadata": {},
 "nbformat": 4,
 "nbformat_minor": 5
}