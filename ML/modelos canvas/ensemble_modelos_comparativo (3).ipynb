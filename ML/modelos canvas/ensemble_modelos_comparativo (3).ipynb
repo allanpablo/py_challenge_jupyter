{
 "cells": [
  {
   "cell_type": "markdown",
   "id": "730aecf7",
   "metadata": {},
   "source": [
    "# 🤖 Ensemble de Modelos - Comparativo Prático\n",
    "\n",
    "Este notebook demonstra os principais tipos de Ensemble:\n",
    "- Bagging (RandomForest)\n",
    "- Boosting (GradientBoosting)\n",
    "- Voting\n",
    "- Stacking\n",
    "\n",
    "Todos aplicados sobre o dataset Iris, com comparação de acurácia.\n"
   ]
  },
  {
   "cell_type": "code",
   "execution_count": 1,
   "id": "28d7dfdf",
   "metadata": {},
   "outputs": [],
   "source": [
    "from sklearn.datasets import load_iris\n",
    "from sklearn.model_selection import train_test_split, cross_val_score\n",
    "from sklearn.metrics import accuracy_score\n",
    "from sklearn.ensemble import RandomForestClassifier, GradientBoostingClassifier, VotingClassifier, StackingClassifier\n",
    "from sklearn.linear_model import LogisticRegression\n",
    "from sklearn.tree import DecisionTreeClassifier\n",
    "from sklearn.svm import SVC\n",
    "from sklearn.naive_bayes import GaussianNB\n",
    "\n",
    "# Dataset\n",
    "iris = load_iris()\n",
    "X, y = iris.data, iris.target\n",
    "\n",
    "# Split\n",
    "X_train, X_test, y_train, y_test = train_test_split(X, y, test_size=0.3, random_state=42)\n"
   ]
  },
  {
   "cell_type": "code",
   "execution_count": 2,
   "id": "e942d79e",
   "metadata": {},
   "outputs": [
    {
     "name": "stdout",
     "output_type": "stream",
     "text": [
      "RandomForest Accuracy: 1.0\n"
     ]
    }
   ],
   "source": [
    "rf = RandomForestClassifier(random_state=42)\n",
    "rf.fit(X_train, y_train)\n",
    "rf_pred = rf.predict(X_test)\n",
    "print(\"RandomForest Accuracy:\", accuracy_score(y_test, rf_pred))\n"
   ]
  },
  {
   "cell_type": "code",
   "execution_count": 3,
   "id": "0d37e3ef",
   "metadata": {},
   "outputs": [
    {
     "name": "stdout",
     "output_type": "stream",
     "text": [
      "GradientBoosting Accuracy: 1.0\n"
     ]
    }
   ],
   "source": [
    "gb = GradientBoostingClassifier(random_state=42)\n",
    "gb.fit(X_train, y_train)\n",
    "gb_pred = gb.predict(X_test)\n",
    "print(\"GradientBoosting Accuracy:\", accuracy_score(y_test, gb_pred))\n"
   ]
  },
  {
   "cell_type": "code",
   "execution_count": 4,
   "id": "d0fed74e",
   "metadata": {},
   "outputs": [
    {
     "name": "stdout",
     "output_type": "stream",
     "text": [
      "VotingClassifier Accuracy: 1.0\n"
     ]
    }
   ],
   "source": [
    "voting = VotingClassifier(\n",
    "    estimators=[\n",
    "        ('rf', RandomForestClassifier(random_state=42)),\n",
    "        ('gb', GradientBoostingClassifier(random_state=42)),\n",
    "        ('gnb', GaussianNB())\n",
    "    ],\n",
    "    voting='hard'\n",
    ")\n",
    "voting.fit(X_train, y_train)\n",
    "voting_pred = voting.predict(X_test)\n",
    "print(\"VotingClassifier Accuracy:\", accuracy_score(y_test, voting_pred))\n"
   ]
  },
  {
   "cell_type": "code",
   "execution_count": 5,
   "id": "dfe4de46",
   "metadata": {},
   "outputs": [
    {
     "name": "stdout",
     "output_type": "stream",
     "text": [
      "StackingClassifier Accuracy: 1.0\n"
     ]
    }
   ],
   "source": [
    "base_models = [\n",
    "    ('svc', SVC(probability=True)),\n",
    "    ('dt', DecisionTreeClassifier())\n",
    "]\n",
    "meta_model = LogisticRegression()\n",
    "\n",
    "stack = StackingClassifier(estimators=base_models, final_estimator=meta_model)\n",
    "stack.fit(X_train, y_train)\n",
    "stack_pred = stack.predict(X_test)\n",
    "print(\"StackingClassifier Accuracy:\", accuracy_score(y_test, stack_pred))\n"
   ]
  },
  {
   "cell_type": "code",
   "execution_count": 6,
   "id": "fc952a3e",
   "metadata": {},
   "outputs": [
    {
     "name": "stdout",
     "output_type": "stream",
     "text": [
      "Comparação com Cross-Validation (5-fold):\n",
      "RandomForest: 0.9667\n",
      "GradientBoosting: 0.9600\n",
      "Voting: 0.9667\n",
      "Stacking: 0.9733\n"
     ]
    }
   ],
   "source": [
    "models = {\n",
    "    \"RandomForest\": rf,\n",
    "    \"GradientBoosting\": gb,\n",
    "    \"Voting\": voting,\n",
    "    \"Stacking\": stack\n",
    "}\n",
    "\n",
    "print(\"Comparação com Cross-Validation (5-fold):\")\n",
    "for name, model in models.items():\n",
    "    scores = cross_val_score(model, X, y, cv=5, scoring='accuracy')\n",
    "    print(f\"{name}: {scores.mean():.4f}\")\n"
   ]
  },
  {
   "cell_type": "markdown",
   "id": "5ccbb144",
   "metadata": {},
   "source": [
    "## ✅ Conclusões\n",
    "\n",
    "- **Bagging (RF)** ajuda a reduzir variância.\n",
    "- **Boosting (GB)** melhora o desempenho corrigindo erros.\n",
    "- **Voting** é simples e eficaz se modelos forem complementares.\n",
    "- **Stacking** pode superar os demais, mas é mais complexo.\n",
    "\n",
    "Escolher o tipo de ensemble ideal depende do **problema**, **tempo de treino** e **necessidade de interpretabilidade**.\n"
   ]
  }
 ],
 "metadata": {
  "kernelspec": {
   "display_name": "estatistica_devs-MKbpRP2F",
   "language": "python",
   "name": "python3"
  },
  "language_info": {
   "codemirror_mode": {
    "name": "ipython",
    "version": 3
   },
   "file_extension": ".py",
   "mimetype": "text/x-python",
   "name": "python",
   "nbconvert_exporter": "python",
   "pygments_lexer": "ipython3",
   "version": "3.11.0"
  }
 },
 "nbformat": 4,
 "nbformat_minor": 5
}
