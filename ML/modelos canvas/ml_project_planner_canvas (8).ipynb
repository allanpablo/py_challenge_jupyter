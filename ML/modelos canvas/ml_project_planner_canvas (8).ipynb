{
 "cells": [
  {
   "cell_type": "markdown",
   "id": "8bb2077d",
   "metadata": {},
   "source": [
    "# 📚 Aula: Estruturas para Projetos de Machine Learning\n",
    "\n",
    "Nesta aula, abordamos **estruturas visuais e metodológicas** que ajudam a planejar, alinhar e executar projetos de Machine Learning de forma colaborativa e iterativa.\n"
   ]
  },
  {
   "cell_type": "markdown",
   "id": "e4a8989a",
   "metadata": {},
   "source": [
    "## 🧭 AI Canvas\n",
    "\n",
    "O **AI Canvas** é uma versão enxuta do ML Canvas, focada no **impacto humano e social** da aplicação de Inteligência Artificial.\n",
    "\n",
    "| Bloco             | Descrição |\n",
    "|-------------------|-----------|\n",
    "| Quem será impactado? | Pessoas, grupos ou setores afetados pela decisão automatizada |\n",
    "| Problema de negócio | Qual dor ou desafio será resolvido com IA |\n",
    "| Decisão automatizada | O que será decidido pelo modelo |\n",
    "| Riscos éticos/sociais | Potenciais danos, viés, discriminação, privacidade |\n"
   ]
  },
  {
   "cell_type": "markdown",
   "id": "37a5b9a3",
   "metadata": {},
   "source": [
    "## 📐 ML Canvas\n",
    "\n",
    "Estrutura visual **completa e técnica**, útil para alinhar stakeholders e equipes multidisciplinares em projetos de ML.\n",
    "\n",
    "Inclui:\n",
    "- Objetivo do modelo\n",
    "- Fontes de dados\n",
    "- Features e target\n",
    "- Métricas (KPIs)\n",
    "- Stakeholders e riscos técnicos\n",
    "- Plano de monitoramento\n",
    "\n",
    "🔎 Útil para conectar times de produto, dados, negócio e engenharia.\n"
   ]
  },
  {
   "cell_type": "markdown",
   "id": "18368a14",
   "metadata": {},
   "source": [
    "## 🔁 CRISP-DM\n",
    "\n",
    "CRISP-DM (Cross Industry Standard Process for Data Mining) é uma metodologia **iterativa** e **agnóstica de tecnologia** para projetos de ciência de dados:\n",
    "\n",
    "1. **Entendimento do Negócio**\n",
    "2. **Entendimento dos Dados**\n",
    "3. **Preparação dos Dados**\n",
    "4. **Modelagem**\n",
    "5. **Avaliação**\n",
    "6. **Implantação**\n",
    "\n",
    "🔄 Você pode voltar a qualquer etapa conforme aprende com os dados ou muda o escopo.\n"
   ]
  },
  {
   "cell_type": "markdown",
   "id": "209ace44",
   "metadata": {},
   "source": [
    "## ⚡ CRISP-DM + Ágil\n",
    "\n",
    "Combinar CRISP-DM com práticas ágeis (ex: sprints) permite:\n",
    "- Entregas parciais e frequentes (MVPs)\n",
    "- Validação contínua com stakeholders\n",
    "- Adaptação rápida a mudanças nos dados ou objetivos\n",
    "\n",
    "🔁 Torna o ciclo mais leve, iterativo e alinhado ao valor entregue.\n"
   ]
  },
  {
   "cell_type": "markdown",
   "id": "bf7c841a",
   "metadata": {},
   "source": [
    "## 🧭 ML Campus\n",
    "\n",
    "O **ML Campus** é uma ferramenta visual que conecta:\n",
    "- Dados ➝ Modelos ➝ Monitoramento\n",
    "- Práticas de MLOps e Produto\n",
    "- Ciclo de vida do modelo em produção\n",
    "\n",
    "💡 Foco: visão de produto + engenharia, com entregas contínuas e alinhamento entre áreas.\n"
   ]
  },
  {
   "cell_type": "markdown",
   "id": "337b79f1",
   "metadata": {},
   "source": [
    "# 🧱 Planejamento de Projetos de Machine Learning\n",
    "\n",
    "Este notebook usa estruturas como **ML Canvas**, **AI Canvas** e **CRISP-DM** para ajudar você a organizar e comunicar projetos de ML de forma colaborativa e iterativa.\n"
   ]
  },
  {
   "cell_type": "markdown",
   "id": "baa38bc2",
   "metadata": {},
   "source": [
    "## 🧭 AI Canvas (Foco humano)\n",
    "\n",
    "Preencha os campos abaixo para alinhar seu projeto com o impacto social e humano.\n"
   ]
  },
  {
   "cell_type": "code",
   "execution_count": null,
   "id": "3b715f34",
   "metadata": {},
   "outputs": [],
   "source": [
    "# 👤 Quem será impactado por este projeto?\n",
    "impactados = \"...\"\n",
    "\n",
    "# 🎯 Qual o problema de negócio?\n",
    "problema = \"...\"\n",
    "\n",
    "# 🧠 Que tipo de decisão será automatizada?\n",
    "decisao = \"...\"\n",
    "\n",
    "# ⚠️ Riscos éticos, sociais ou legais?\n",
    "riscos = \"...\"\n",
    "\n",
    "# Visualização rápida\n",
    "print(\"Impactados:\", impactados)\n",
    "print(\"Problema:\", problema)\n",
    "print(\"Decisão:\", decisao)\n",
    "print(\"Riscos:\", riscos)\n"
   ]
  },
  {
   "cell_type": "markdown",
   "id": "521368b9",
   "metadata": {},
   "source": [
    "## 📐 ML Canvas (Técnico e completo)\n",
    "\n",
    "Use esta estrutura para mapear os principais componentes técnicos e operacionais do seu modelo.\n"
   ]
  },
  {
   "cell_type": "code",
   "execution_count": null,
   "id": "cee0a8b2",
   "metadata": {},
   "outputs": [],
   "source": [
    "# 🎯 Objetivo do modelo:\n",
    "objetivo_modelo = \"...\"\n",
    "\n",
    "# 🗃️ Fontes de dados:\n",
    "fontes_dados = [\"...\"]\n",
    "\n",
    "# 🧪 Variáveis preditoras (features):\n",
    "features = [\"...\"]\n",
    "\n",
    "# 🎯 Target (variável a ser prevista):\n",
    "target = \"...\"\n",
    "\n",
    "# 📏 Métrica de sucesso (KPI):\n",
    "kpi = \"...\"\n",
    "\n",
    "# 👥 Atores envolvidos (stakeholders):\n",
    "stakeholders = [\"...\"]\n",
    "\n",
    "# 🛑 Riscos técnicos / operacionais:\n",
    "riscos_tec = \"...\"\n",
    "\n",
    "# 🔍 Como o modelo será monitorado?\n",
    "monitoramento = \"...\"\n",
    "\n",
    "# Visualização\n",
    "print(\"Objetivo:\", objetivo_modelo)\n",
    "print(\"Features:\", features)\n",
    "print(\"Target:\", target)\n",
    "print(\"KPI:\", kpi)\n"
   ]
  },
  {
   "cell_type": "markdown",
   "id": "6acdde9d",
   "metadata": {},
   "source": [
    "## 🔁 CRISP-DM - Ciclo de Vida do Projeto\n",
    "\n",
    "Checklist para guiar execução iterativa.\n"
   ]
  },
  {
   "cell_type": "code",
   "execution_count": null,
   "id": "cad5013f",
   "metadata": {},
   "outputs": [],
   "source": [
    "crisp_dm = {\n",
    "    \"1 - Entendimento do negócio\": \"...\",\n",
    "    \"2 - Entendimento dos dados\": \"...\",\n",
    "    \"3 - Preparação dos dados\": \"...\",\n",
    "    \"4 - Modelagem\": \"...\",\n",
    "    \"5 - Avaliação do modelo\": \"...\",\n",
    "    \"6 - Implantação e operação\": \"...\"\n",
    "}\n",
    "\n",
    "for etapa, status in crisp_dm.items():\n",
    "    print(f\"{etapa}: {status}\")\n"
   ]
  },
  {
   "cell_type": "markdown",
   "id": "67e02fca",
   "metadata": {},
   "source": [
    "## 📊 Visão Consolidada do Projeto\n",
    "\n",
    "Use esta célula para documentar a visão geral, resumo executivo ou plano de entrega.\n"
   ]
  },
  {
   "cell_type": "code",
   "execution_count": null,
   "id": "3a467211",
   "metadata": {},
   "outputs": [],
   "source": [
    "visao_geral = '''\n",
    "Resumo do projeto, principais entregas, equipe responsável e cronograma.\n",
    "'''\n",
    "print(visao_geral)\n"
   ]
  }
 ],
 "metadata": {},
 "nbformat": 4,
 "nbformat_minor": 5
}
